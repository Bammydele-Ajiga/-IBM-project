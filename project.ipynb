{
 "cells": [
  {
   "cell_type": "markdown",
   "id": "d0a0939a",
   "metadata": {},
   "source": [
    "<h1>My Jupiter notebook on Watson Studio <h1/>"
   ]
  },
  {
   "cell_type": "markdown",
   "id": "fb5423cb",
   "metadata": {},
   "source": [
    "<b> Bamidele Ajiga </b>\n",
    "\n",
    "First class data scientist"
   ]
  },
  {
   "cell_type": "markdown",
   "id": "d664bfa0",
   "metadata": {},
   "source": [
    "<i> I am interested in data science because I love to predict the future</i>"
   ]
  },
  {
   "cell_type": "markdown",
   "id": "6345a552",
   "metadata": {},
   "source": [
    "<h3> The code simply displays welcome to the world of datascience</h3> "
   ]
  },
  {
   "cell_type": "code",
   "execution_count": 3,
   "id": "67c6fea6",
   "metadata": {},
   "outputs": [
    {
     "name": "stdout",
     "output_type": "stream",
     "text": [
      "Welcome to the world of datascience\n"
     ]
    }
   ],
   "source": [
    "print(\"Welcome to the world of datascience\")"
   ]
  },
  {
   "cell_type": "markdown",
   "id": "64c82292",
   "metadata": {},
   "source": [
    "<ul>\n",
    "<li> Apple </li>\n",
    "<li> Ball </li>\n",
    "<li> Cat </li>\n",
    "</ul>\n",
    "\n",
    "\n",
    "<ol>\n",
    "<li> one </li>\n",
    "<li> two </li>\n",
    "<li> three</li>\n",
    "</ol>\n",
    "\n",
    "<s>Strike</s>"
   ]
  },
  {
   "cell_type": "code",
   "execution_count": null,
   "id": "1f898765",
   "metadata": {},
   "outputs": [],
   "source": []
  }
 ],
 "metadata": {
  "kernelspec": {
   "display_name": "Python 3 (ipykernel)",
   "language": "python",
   "name": "python3"
  },
  "language_info": {
   "codemirror_mode": {
    "name": "ipython",
    "version": 3
   },
   "file_extension": ".py",
   "mimetype": "text/x-python",
   "name": "python",
   "nbconvert_exporter": "python",
   "pygments_lexer": "ipython3",
   "version": "3.9.7"
  }
 },
 "nbformat": 4,
 "nbformat_minor": 5
}
